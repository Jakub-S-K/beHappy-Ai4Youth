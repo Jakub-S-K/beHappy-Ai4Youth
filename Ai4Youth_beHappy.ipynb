{
  "cells": [
    {
      "cell_type": "markdown",
      "metadata": {
        "id": "5OXSFsbxaazY"
      },
      "source": [
        "# Ai4Youth - beHappy - Reddit extension with sentiment analysis\n",
        "## Short info about project\n",
        "This  `.ipynb`  file does contain code used to prepare data, format labels, create  `keras.Sequential`  train it accordingly create charts and finally save trained model by using  `model.save()`   and also tfidf tokenizer state via pickle for flask api's use\n",
        "\n",
        "---\n",
        "\n",
        "### Project directory structure:\n",
        "\n",
        "Whole project directory acts as unpacked chrome extension.\n",
        "In order to load it into supported browser (Google Chrome) you need to turn on developer mode ([Follow this procedure](https://support.google.com/chrome/a/answer/2714278?hl=en#:~:text=Go%20to%20chrome,or%20extension%20folder.))\n",
        "\n",
        "\n",
        "Also in `{project folder}/python_api/` there is `main.py` file which is **required running** by extension in order to work.\n",
        "\n",
        "---\n",
        "\n",
        "## Startup procedure\n",
        "\n",
        "  1. Load unpacked extension accordingly with instruction linked above\n",
        "  2. Start `{project folder}/python_api/main.py` file, server will start at `0.0.0.0:5000`\n",
        "  3. Open [reddit.com](https://www.reddit.com/r/popular/?geo_filter=GB) and visit thread in English"
      ]
    },
    {
      "cell_type": "markdown",
      "metadata": {
        "id": "Uuhf0v6nbLsL"
      },
      "source": [
        "##Import libraries and download data\n",
        "Import libraries necessary to process dataset train AI model\n",
        "In addition nltk punkt and stopwords modules are downloaded"
      ]
    },
    {
      "cell_type": "code",
      "execution_count": 1,
      "metadata": {
        "id": "s5rsXjmDAFI5"
      },
      "outputs": [],
      "source": [
        "import pandas as pd\n",
        "import nltk\n",
        "import numpy as np\n",
        "import re\n",
        "import pickle\n",
        "\n",
        "import matplotlib.pyplot as plt\n",
        "\n",
        "from collections import Counter\n",
        "from sklearn.feature_extraction.text import TfidfVectorizer\n",
        "from sklearn.model_selection import train_test_split\n",
        "from nltk.stem import PorterStemmer\n",
        "from nltk.tokenize import word_tokenize\n",
        "from nltk.corpus import stopwords\n",
        "\n",
        "import tensorflow.python.keras.backend as K \n",
        "sess = K.get_session()\n",
        "from tensorflow import keras\n",
        "from tensorflow.keras import layers\n",
        "from keras import optimizers, metrics\n",
        "\n",
        "nltk.download('punkt')\n",
        "nltk.download('stopwords')"
      ]
    },
    {
      "cell_type": "markdown",
      "metadata": {
        "id": "H12WSAtNaDUx"
      },
      "source": [
        "## Data processing\n",
        "Read dataset values to pandas dataframe and show genearal layout."
      ]
    },
    {
      "cell_type": "code",
      "execution_count": 73,
      "metadata": {
        "colab": {
          "base_uri": "https://localhost:8080/",
          "height": 204
        },
        "id": "utpGKIvOBS9Z",
        "outputId": "ad976d8b-d72a-44d0-8777-e0eeee8e7407"
      },
      "outputs": [
        {
          "data": {
            "text/html": [
              "\n",
              "  <div id=\"df-3ef01810-b0b8-4bf1-99d1-9ce3ef5edc35\">\n",
              "    <div class=\"colab-df-container\">\n",
              "      <div>\n",
              "<style scoped>\n",
              "    .dataframe tbody tr th:only-of-type {\n",
              "        vertical-align: middle;\n",
              "    }\n",
              "\n",
              "    .dataframe tbody tr th {\n",
              "        vertical-align: top;\n",
              "    }\n",
              "\n",
              "    .dataframe thead th {\n",
              "        text-align: right;\n",
              "    }\n",
              "</style>\n",
              "<table border=\"1\" class=\"dataframe\">\n",
              "  <thead>\n",
              "    <tr style=\"text-align: right;\">\n",
              "      <th></th>\n",
              "      <th>Unnamed: 0</th>\n",
              "      <th>Toxicity</th>\n",
              "      <th>tweet</th>\n",
              "    </tr>\n",
              "  </thead>\n",
              "  <tbody>\n",
              "    <tr>\n",
              "      <th>0</th>\n",
              "      <td>0</td>\n",
              "      <td>0</td>\n",
              "      <td>@user when a father is dysfunctional and is s...</td>\n",
              "    </tr>\n",
              "    <tr>\n",
              "      <th>1</th>\n",
              "      <td>1</td>\n",
              "      <td>0</td>\n",
              "      <td>@user @user thanks for #lyft credit i can't us...</td>\n",
              "    </tr>\n",
              "    <tr>\n",
              "      <th>2</th>\n",
              "      <td>2</td>\n",
              "      <td>0</td>\n",
              "      <td>bihday your majesty</td>\n",
              "    </tr>\n",
              "    <tr>\n",
              "      <th>3</th>\n",
              "      <td>3</td>\n",
              "      <td>0</td>\n",
              "      <td>#model   i love u take with u all the time in ...</td>\n",
              "    </tr>\n",
              "    <tr>\n",
              "      <th>4</th>\n",
              "      <td>4</td>\n",
              "      <td>0</td>\n",
              "      <td>factsguide: society now    #motivation</td>\n",
              "    </tr>\n",
              "  </tbody>\n",
              "</table>\n",
              "</div>\n",
              "      <button class=\"colab-df-convert\" onclick=\"convertToInteractive('df-3ef01810-b0b8-4bf1-99d1-9ce3ef5edc35')\"\n",
              "              title=\"Convert this dataframe to an interactive table.\"\n",
              "              style=\"display:none;\">\n",
              "        \n",
              "  <svg xmlns=\"http://www.w3.org/2000/svg\" height=\"24px\"viewBox=\"0 0 24 24\"\n",
              "       width=\"24px\">\n",
              "    <path d=\"M0 0h24v24H0V0z\" fill=\"none\"/>\n",
              "    <path d=\"M18.56 5.44l.94 2.06.94-2.06 2.06-.94-2.06-.94-.94-2.06-.94 2.06-2.06.94zm-11 1L8.5 8.5l.94-2.06 2.06-.94-2.06-.94L8.5 2.5l-.94 2.06-2.06.94zm10 10l.94 2.06.94-2.06 2.06-.94-2.06-.94-.94-2.06-.94 2.06-2.06.94z\"/><path d=\"M17.41 7.96l-1.37-1.37c-.4-.4-.92-.59-1.43-.59-.52 0-1.04.2-1.43.59L10.3 9.45l-7.72 7.72c-.78.78-.78 2.05 0 2.83L4 21.41c.39.39.9.59 1.41.59.51 0 1.02-.2 1.41-.59l7.78-7.78 2.81-2.81c.8-.78.8-2.07 0-2.86zM5.41 20L4 18.59l7.72-7.72 1.47 1.35L5.41 20z\"/>\n",
              "  </svg>\n",
              "      </button>\n",
              "      \n",
              "  <style>\n",
              "    .colab-df-container {\n",
              "      display:flex;\n",
              "      flex-wrap:wrap;\n",
              "      gap: 12px;\n",
              "    }\n",
              "\n",
              "    .colab-df-convert {\n",
              "      background-color: #E8F0FE;\n",
              "      border: none;\n",
              "      border-radius: 50%;\n",
              "      cursor: pointer;\n",
              "      display: none;\n",
              "      fill: #1967D2;\n",
              "      height: 32px;\n",
              "      padding: 0 0 0 0;\n",
              "      width: 32px;\n",
              "    }\n",
              "\n",
              "    .colab-df-convert:hover {\n",
              "      background-color: #E2EBFA;\n",
              "      box-shadow: 0px 1px 2px rgba(60, 64, 67, 0.3), 0px 1px 3px 1px rgba(60, 64, 67, 0.15);\n",
              "      fill: #174EA6;\n",
              "    }\n",
              "\n",
              "    [theme=dark] .colab-df-convert {\n",
              "      background-color: #3B4455;\n",
              "      fill: #D2E3FC;\n",
              "    }\n",
              "\n",
              "    [theme=dark] .colab-df-convert:hover {\n",
              "      background-color: #434B5C;\n",
              "      box-shadow: 0px 1px 3px 1px rgba(0, 0, 0, 0.15);\n",
              "      filter: drop-shadow(0px 1px 2px rgba(0, 0, 0, 0.3));\n",
              "      fill: #FFFFFF;\n",
              "    }\n",
              "  </style>\n",
              "\n",
              "      <script>\n",
              "        const buttonEl =\n",
              "          document.querySelector('#df-3ef01810-b0b8-4bf1-99d1-9ce3ef5edc35 button.colab-df-convert');\n",
              "        buttonEl.style.display =\n",
              "          google.colab.kernel.accessAllowed ? 'block' : 'none';\n",
              "\n",
              "        async function convertToInteractive(key) {\n",
              "          const element = document.querySelector('#df-3ef01810-b0b8-4bf1-99d1-9ce3ef5edc35');\n",
              "          const dataTable =\n",
              "            await google.colab.kernel.invokeFunction('convertToInteractive',\n",
              "                                                     [key], {});\n",
              "          if (!dataTable) return;\n",
              "\n",
              "          const docLinkHtml = 'Like what you see? Visit the ' +\n",
              "            '<a target=\"_blank\" href=https://colab.research.google.com/notebooks/data_table.ipynb>data table notebook</a>'\n",
              "            + ' to learn more about interactive tables.';\n",
              "          element.innerHTML = '';\n",
              "          dataTable['output_type'] = 'display_data';\n",
              "          await google.colab.output.renderOutput(dataTable, element);\n",
              "          const docLink = document.createElement('div');\n",
              "          docLink.innerHTML = docLinkHtml;\n",
              "          element.appendChild(docLink);\n",
              "        }\n",
              "      </script>\n",
              "    </div>\n",
              "  </div>\n",
              "  "
            ],
            "text/plain": [
              "   Unnamed: 0  Toxicity                                              tweet\n",
              "0           0         0   @user when a father is dysfunctional and is s...\n",
              "1           1         0  @user @user thanks for #lyft credit i can't us...\n",
              "2           2         0                                bihday your majesty\n",
              "3           3         0  #model   i love u take with u all the time in ...\n",
              "4           4         0             factsguide: society now    #motivation"
            ]
          },
          "execution_count": 73,
          "metadata": {},
          "output_type": "execute_result"
        }
      ],
      "source": [
        "dataframe = pd.read_csv('FinalBalancedDataset.csv')\n",
        "dataframe.head()"
      ]
    },
    {
      "cell_type": "markdown",
      "metadata": {
        "id": "UdmzWmEQb9ar"
      },
      "source": [
        "Count number of post with labels:\n",
        "\n",
        "- 0 - Neutral posts\n",
        "\n",
        "- 1 - Toxic posts"
      ]
    },
    {
      "cell_type": "code",
      "execution_count": 74,
      "metadata": {
        "colab": {
          "base_uri": "https://localhost:8080/"
        },
        "id": "yh-SY4yJBtSo",
        "outputId": "b3f4f3af-2a60-4333-cbe1-a2173d9a7083"
      },
      "outputs": [
        {
          "data": {
            "text/plain": [
              "0    32592\n",
              "1    24153\n",
              "Name: Toxicity, dtype: int64"
            ]
          },
          "execution_count": 74,
          "metadata": {},
          "output_type": "execute_result"
        }
      ],
      "source": [
        "dataframe['Toxicity'].value_counts()"
      ]
    },
    {
      "cell_type": "code",
      "execution_count": 107,
      "metadata": {
        "colab": {
          "base_uri": "https://localhost:8080/"
        },
        "id": "Azl9XLiaCS0i",
        "outputId": "770d37e9-ebc9-4e8d-d02c-96ad408834c7"
      },
      "outputs": [
        {
          "name": "stdout",
          "output_type": "stream",
          "text": [
            "There are 56745 posts\n"
          ]
        }
      ],
      "source": [
        "print('There are', len(dataframe), 'posts')"
      ]
    },
    {
      "cell_type": "code",
      "execution_count": 75,
      "metadata": {
        "colab": {
          "base_uri": "https://localhost:8080/"
        },
        "id": "1BKBGQKbCWhN",
        "outputId": "fa38f8a7-13e3-4ab7-9b4a-42a54fd8dc42"
      },
      "outputs": [
        {
          "data": {
            "text/plain": [
              "Index(['Unnamed: 0', 'Toxicity', 'tweet'], dtype='object')"
            ]
          },
          "execution_count": 75,
          "metadata": {},
          "output_type": "execute_result"
        }
      ],
      "source": [
        "dataframe.columns"
      ]
    },
    {
      "cell_type": "markdown",
      "metadata": {
        "id": "IK7qHquPe__n"
      },
      "source": [
        "Create view onto dataframe with only needed columns (it helps when dataset have many columns)"
      ]
    },
    {
      "cell_type": "code",
      "execution_count": 77,
      "metadata": {
        "colab": {
          "base_uri": "https://localhost:8080/"
        },
        "id": "mHxaVEMpFRGd",
        "outputId": "9d623076-ffee-4cbd-ec5c-1d6963447dd9"
      },
      "outputs": [
        {
          "data": {
            "text/plain": [
              "56745"
            ]
          },
          "execution_count": 77,
          "metadata": {},
          "output_type": "execute_result"
        }
      ],
      "source": [
        "hatedf = dataframe[['Toxicity', 'tweet']]\n",
        "len(hatedf)"
      ]
    },
    {
      "cell_type": "code",
      "execution_count": 78,
      "metadata": {
        "colab": {
          "base_uri": "https://localhost:8080/",
          "height": 204
        },
        "id": "aN3TT4KmFcDx",
        "outputId": "eea8b7c9-4d37-4480-8ac3-2ba38e062b1a"
      },
      "outputs": [
        {
          "data": {
            "text/html": [
              "\n",
              "  <div id=\"df-37522892-0a7f-4cbc-acf0-5baae04ed459\">\n",
              "    <div class=\"colab-df-container\">\n",
              "      <div>\n",
              "<style scoped>\n",
              "    .dataframe tbody tr th:only-of-type {\n",
              "        vertical-align: middle;\n",
              "    }\n",
              "\n",
              "    .dataframe tbody tr th {\n",
              "        vertical-align: top;\n",
              "    }\n",
              "\n",
              "    .dataframe thead th {\n",
              "        text-align: right;\n",
              "    }\n",
              "</style>\n",
              "<table border=\"1\" class=\"dataframe\">\n",
              "  <thead>\n",
              "    <tr style=\"text-align: right;\">\n",
              "      <th></th>\n",
              "      <th>Toxicity</th>\n",
              "      <th>tweet</th>\n",
              "    </tr>\n",
              "  </thead>\n",
              "  <tbody>\n",
              "    <tr>\n",
              "      <th>0</th>\n",
              "      <td>0</td>\n",
              "      <td>@user when a father is dysfunctional and is s...</td>\n",
              "    </tr>\n",
              "    <tr>\n",
              "      <th>1</th>\n",
              "      <td>0</td>\n",
              "      <td>@user @user thanks for #lyft credit i can't us...</td>\n",
              "    </tr>\n",
              "    <tr>\n",
              "      <th>2</th>\n",
              "      <td>0</td>\n",
              "      <td>bihday your majesty</td>\n",
              "    </tr>\n",
              "    <tr>\n",
              "      <th>3</th>\n",
              "      <td>0</td>\n",
              "      <td>#model   i love u take with u all the time in ...</td>\n",
              "    </tr>\n",
              "    <tr>\n",
              "      <th>4</th>\n",
              "      <td>0</td>\n",
              "      <td>factsguide: society now    #motivation</td>\n",
              "    </tr>\n",
              "  </tbody>\n",
              "</table>\n",
              "</div>\n",
              "      <button class=\"colab-df-convert\" onclick=\"convertToInteractive('df-37522892-0a7f-4cbc-acf0-5baae04ed459')\"\n",
              "              title=\"Convert this dataframe to an interactive table.\"\n",
              "              style=\"display:none;\">\n",
              "        \n",
              "  <svg xmlns=\"http://www.w3.org/2000/svg\" height=\"24px\"viewBox=\"0 0 24 24\"\n",
              "       width=\"24px\">\n",
              "    <path d=\"M0 0h24v24H0V0z\" fill=\"none\"/>\n",
              "    <path d=\"M18.56 5.44l.94 2.06.94-2.06 2.06-.94-2.06-.94-.94-2.06-.94 2.06-2.06.94zm-11 1L8.5 8.5l.94-2.06 2.06-.94-2.06-.94L8.5 2.5l-.94 2.06-2.06.94zm10 10l.94 2.06.94-2.06 2.06-.94-2.06-.94-.94-2.06-.94 2.06-2.06.94z\"/><path d=\"M17.41 7.96l-1.37-1.37c-.4-.4-.92-.59-1.43-.59-.52 0-1.04.2-1.43.59L10.3 9.45l-7.72 7.72c-.78.78-.78 2.05 0 2.83L4 21.41c.39.39.9.59 1.41.59.51 0 1.02-.2 1.41-.59l7.78-7.78 2.81-2.81c.8-.78.8-2.07 0-2.86zM5.41 20L4 18.59l7.72-7.72 1.47 1.35L5.41 20z\"/>\n",
              "  </svg>\n",
              "      </button>\n",
              "      \n",
              "  <style>\n",
              "    .colab-df-container {\n",
              "      display:flex;\n",
              "      flex-wrap:wrap;\n",
              "      gap: 12px;\n",
              "    }\n",
              "\n",
              "    .colab-df-convert {\n",
              "      background-color: #E8F0FE;\n",
              "      border: none;\n",
              "      border-radius: 50%;\n",
              "      cursor: pointer;\n",
              "      display: none;\n",
              "      fill: #1967D2;\n",
              "      height: 32px;\n",
              "      padding: 0 0 0 0;\n",
              "      width: 32px;\n",
              "    }\n",
              "\n",
              "    .colab-df-convert:hover {\n",
              "      background-color: #E2EBFA;\n",
              "      box-shadow: 0px 1px 2px rgba(60, 64, 67, 0.3), 0px 1px 3px 1px rgba(60, 64, 67, 0.15);\n",
              "      fill: #174EA6;\n",
              "    }\n",
              "\n",
              "    [theme=dark] .colab-df-convert {\n",
              "      background-color: #3B4455;\n",
              "      fill: #D2E3FC;\n",
              "    }\n",
              "\n",
              "    [theme=dark] .colab-df-convert:hover {\n",
              "      background-color: #434B5C;\n",
              "      box-shadow: 0px 1px 3px 1px rgba(0, 0, 0, 0.15);\n",
              "      filter: drop-shadow(0px 1px 2px rgba(0, 0, 0, 0.3));\n",
              "      fill: #FFFFFF;\n",
              "    }\n",
              "  </style>\n",
              "\n",
              "      <script>\n",
              "        const buttonEl =\n",
              "          document.querySelector('#df-37522892-0a7f-4cbc-acf0-5baae04ed459 button.colab-df-convert');\n",
              "        buttonEl.style.display =\n",
              "          google.colab.kernel.accessAllowed ? 'block' : 'none';\n",
              "\n",
              "        async function convertToInteractive(key) {\n",
              "          const element = document.querySelector('#df-37522892-0a7f-4cbc-acf0-5baae04ed459');\n",
              "          const dataTable =\n",
              "            await google.colab.kernel.invokeFunction('convertToInteractive',\n",
              "                                                     [key], {});\n",
              "          if (!dataTable) return;\n",
              "\n",
              "          const docLinkHtml = 'Like what you see? Visit the ' +\n",
              "            '<a target=\"_blank\" href=https://colab.research.google.com/notebooks/data_table.ipynb>data table notebook</a>'\n",
              "            + ' to learn more about interactive tables.';\n",
              "          element.innerHTML = '';\n",
              "          dataTable['output_type'] = 'display_data';\n",
              "          await google.colab.output.renderOutput(dataTable, element);\n",
              "          const docLink = document.createElement('div');\n",
              "          docLink.innerHTML = docLinkHtml;\n",
              "          element.appendChild(docLink);\n",
              "        }\n",
              "      </script>\n",
              "    </div>\n",
              "  </div>\n",
              "  "
            ],
            "text/plain": [
              "   Toxicity                                              tweet\n",
              "0         0   @user when a father is dysfunctional and is s...\n",
              "1         0  @user @user thanks for #lyft credit i can't us...\n",
              "2         0                                bihday your majesty\n",
              "3         0  #model   i love u take with u all the time in ...\n",
              "4         0             factsguide: society now    #motivation"
            ]
          },
          "execution_count": 78,
          "metadata": {},
          "output_type": "execute_result"
        }
      ],
      "source": [
        "hatedf.head()"
      ]
    },
    {
      "cell_type": "markdown",
      "metadata": {
        "id": "T-xWWt30fO_O"
      },
      "source": [
        "Create PorterStemmmer instance and test it's behaviour"
      ]
    },
    {
      "cell_type": "code",
      "execution_count": 79,
      "metadata": {
        "id": "gdixjZKOIwE-"
      },
      "outputs": [],
      "source": [
        "stemmer = PorterStemmer()"
      ]
    },
    {
      "cell_type": "code",
      "execution_count": 80,
      "metadata": {
        "colab": {
          "base_uri": "https://localhost:8080/",
          "height": 37
        },
        "id": "6Vk1ylDiI0O_",
        "outputId": "369cd284-8926-4b85-d203-a7b69729a2ac"
      },
      "outputs": [
        {
          "data": {
            "application/vnd.google.colaboratory.intrinsic+json": {
              "type": "string"
            },
            "text/plain": [
              "'testing sent'"
            ]
          },
          "execution_count": 80,
          "metadata": {},
          "output_type": "execute_result"
        }
      ],
      "source": [
        "stemmer.stem('testing sentence')"
      ]
    },
    {
      "cell_type": "markdown",
      "metadata": {
        "id": "mGN1ATUEfWf-"
      },
      "source": [
        "###Stemmization\n",
        "Create function which deletes urls, special characters, numbers and english 'stopwords' (words that are common and doesn't give much information about subject)\n",
        "\n",
        "Example is included below"
      ]
    },
    {
      "cell_type": "code",
      "execution_count": 81,
      "metadata": {
        "id": "duCFP2jwI2in"
      },
      "outputs": [],
      "source": [
        "def stemmize_sentence(text):\n",
        "  ignore = stopwords.words('english')\n",
        "  text = re.sub(r\"(https:|http:|www\\.)\\S*\", \" \", text)\n",
        "  text = re.sub(r\"[^\\w']\", \" \", text)\n",
        "  text = re.sub(r\"[\\d]\", \" \", text)\n",
        "  text = word_tokenize(text)\n",
        "  text = [word.lower() for word in text]\n",
        "  text = [word for word in text if word not in ignore]\n",
        "  result = []\n",
        "  for word in text:\n",
        "    result.append(stemmer.stem(word))\n",
        "  return \" \".join(result)"
      ]
    },
    {
      "cell_type": "code",
      "execution_count": 83,
      "metadata": {
        "colab": {
          "base_uri": "https://localhost:8080/",
          "height": 37
        },
        "id": "15-ZuBBz8GPK",
        "outputId": "ef93bbf0-b123-41bc-a254-53c82f3d6136"
      },
      "outputs": [
        {
          "data": {
            "application/vnd.google.colaboratory.intrinsic+json": {
              "type": "string"
            },
            "text/plain": [
              "'test string contain'"
            ]
          },
          "execution_count": 83,
          "metadata": {},
          "output_type": "execute_result"
        }
      ],
      "source": [
        "stemmize_sentence('test 123 https://google.pl this string contains @#$%%')"
      ]
    },
    {
      "cell_type": "markdown",
      "metadata": {
        "id": "zlu_niUlgAze"
      },
      "source": [
        "Create dataframe deep copy in order to save original data"
      ]
    },
    {
      "cell_type": "code",
      "execution_count": 84,
      "metadata": {
        "id": "af9afATrLd_N"
      },
      "outputs": [],
      "source": [
        "hatedf_copy = hatedf.copy(deep=True)"
      ]
    },
    {
      "cell_type": "markdown",
      "metadata": {
        "id": "Kw5h6RPcgKde"
      },
      "source": [
        "####Stemmization example"
      ]
    },
    {
      "cell_type": "code",
      "execution_count": 85,
      "metadata": {
        "colab": {
          "base_uri": "https://localhost:8080/",
          "height": 37
        },
        "id": "iEse_68T4eYj",
        "outputId": "413118da-2499-49cf-baa8-ae91b732a033"
      },
      "outputs": [
        {
          "data": {
            "application/vnd.google.colaboratory.intrinsic+json": {
              "type": "string"
            },
            "text/plain": [
              "'user father dysfunct selfish drag kid dysfunct run'"
            ]
          },
          "execution_count": 85,
          "metadata": {},
          "output_type": "execute_result"
        }
      ],
      "source": [
        "stemmize_sentence(hatedf_copy['tweet'].tolist()[0])"
      ]
    },
    {
      "cell_type": "code",
      "execution_count": 86,
      "metadata": {
        "colab": {
          "base_uri": "https://localhost:8080/",
          "height": 37
        },
        "id": "0Tf3_DufLjUW",
        "outputId": "df133bd9-2869-43e6-f87a-d766f07b8677"
      },
      "outputs": [
        {
          "data": {
            "application/vnd.google.colaboratory.intrinsic+json": {
              "type": "string"
            },
            "text/plain": [
              "' @user when a father is dysfunctional and is so selfish he drags his kids into his dysfunction.   #run'"
            ]
          },
          "execution_count": 86,
          "metadata": {},
          "output_type": "execute_result"
        }
      ],
      "source": [
        "hatedf['tweet'].tolist()[0]"
      ]
    },
    {
      "cell_type": "code",
      "execution_count": 87,
      "metadata": {
        "id": "GMbQaCDxvf0i"
      },
      "outputs": [],
      "source": [
        "hatedf_copy['tweet'] = [stemmize_sentence(x) for x in hatedf_copy['tweet']]"
      ]
    },
    {
      "cell_type": "markdown",
      "metadata": {
        "id": "kOSFitaJgRNf"
      },
      "source": [
        "Below comented lines were used to visualize most common words while working on stemmizer in order to highlight its flaws."
      ]
    },
    {
      "cell_type": "code",
      "execution_count": 24,
      "metadata": {
        "id": "41Q-0keiYXAV"
      },
      "outputs": [],
      "source": [
        "#occurence_count = Counter()\n",
        "\n",
        "#for index, sentence in hatedf_copy.iterrows():\n",
        "#  occurence_count.update(stemmize_sentence(sentence['tweet']).split())"
      ]
    },
    {
      "cell_type": "code",
      "execution_count": 26,
      "metadata": {
        "id": "8D8wcwoaah0Q"
      },
      "outputs": [],
      "source": [
        "#occurence_count.most_common(5000)"
      ]
    },
    {
      "cell_type": "code",
      "execution_count": 25,
      "metadata": {
        "colab": {
          "base_uri": "https://localhost:8080/"
        },
        "id": "Vn-PPC_ywVeo",
        "outputId": "f89a873a-db02-483b-c2f4-efd7ceca1fe5"
      },
      "outputs": [
        {
          "name": "stdout",
          "output_type": "stream",
          "text": [
            "56745\n"
          ]
        },
        {
          "data": {
            "text/plain": [
              "0        0\n",
              "1        0\n",
              "2        0\n",
              "3        0\n",
              "4        0\n",
              "        ..\n",
              "56740    1\n",
              "56741    1\n",
              "56742    1\n",
              "56743    1\n",
              "56744    0\n",
              "Name: Toxicity, Length: 56745, dtype: int64"
            ]
          },
          "execution_count": 25,
          "metadata": {},
          "output_type": "execute_result"
        }
      ],
      "source": [
        "print(len(hatedf_copy))\n",
        "hatedf_copy['Toxicity']"
      ]
    },
    {
      "cell_type": "markdown",
      "metadata": {
        "id": "tkZfiYTihYsJ"
      },
      "source": [
        "### TFIDF\n",
        "Create tfidf instance set `max_features_count` ('number of words in dictionary) and `stop_words` to `'english'`.\n",
        "Then Construct Panda's dataframe `rdisd_df` with column names reffering to words being described."
      ]
    },
    {
      "cell_type": "code",
      "execution_count": 27,
      "metadata": {
        "colab": {
          "base_uri": "https://localhost:8080/"
        },
        "id": "G7MzGinUiHGX",
        "outputId": "09dc9730-e413-4124-abdf-9d56f990bda2"
      },
      "outputs": [
        {
          "name": "stderr",
          "output_type": "stream",
          "text": [
            "/usr/local/lib/python3.7/dist-packages/sklearn/utils/deprecation.py:87: FutureWarning: Function get_feature_names is deprecated; get_feature_names is deprecated in 1.0 and will be removed in 1.2. Please use get_feature_names_out instead.\n",
            "  warnings.warn(msg, category=FutureWarning)\n"
          ]
        }
      ],
      "source": [
        "max_features_count = 3000\n",
        "\n",
        "tfidf = TfidfVectorizer(max_features=max_features_count, stop_words='english')\n",
        "vectors = tfidf.fit_transform(hatedf_copy['tweet'])\n",
        "names = tfidf.get_feature_names()\n",
        "tfidf_df = pd.DataFrame(vectors.todense().tolist(), columns=names)"
      ]
    },
    {
      "cell_type": "code",
      "execution_count": 28,
      "metadata": {
        "colab": {
          "base_uri": "https://localhost:8080/",
          "height": 463
        },
        "id": "7XkGc87813aP",
        "outputId": "be251f07-71bb-433a-c7c4-784d84640ab0"
      },
      "outputs": [
        {
          "data": {
            "text/html": [
              "\n",
              "  <div id=\"df-e9156352-5236-471f-9ef6-8851bdd9c332\">\n",
              "    <div class=\"colab-df-container\">\n",
              "      <div>\n",
              "<style scoped>\n",
              "    .dataframe tbody tr th:only-of-type {\n",
              "        vertical-align: middle;\n",
              "    }\n",
              "\n",
              "    .dataframe tbody tr th {\n",
              "        vertical-align: top;\n",
              "    }\n",
              "\n",
              "    .dataframe thead th {\n",
              "        text-align: right;\n",
              "    }\n",
              "</style>\n",
              "<table border=\"1\" class=\"dataframe\">\n",
              "  <thead>\n",
              "    <tr style=\"text-align: right;\">\n",
              "      <th></th>\n",
              "      <th>_beautifulkeezi</th>\n",
              "      <th>_sqquad</th>\n",
              "      <th>aap</th>\n",
              "      <th>ab</th>\n",
              "      <th>abl</th>\n",
              "      <th>abo</th>\n",
              "      <th>absolut</th>\n",
              "      <th>abt</th>\n",
              "      <th>abus</th>\n",
              "      <th>accept</th>\n",
              "      <th>...</th>\n",
              "      <th>ºð</th>\n",
              "      <th>¼ã</th>\n",
              "      <th>¼ï</th>\n",
              "      <th>¼ð</th>\n",
              "      <th>½ï</th>\n",
              "      <th>½ð</th>\n",
              "      <th>¾ð</th>\n",
              "      <th>à¹</th>\n",
              "      <th>ï¼</th>\n",
              "      <th>ó¾</th>\n",
              "    </tr>\n",
              "  </thead>\n",
              "  <tbody>\n",
              "    <tr>\n",
              "      <th>0</th>\n",
              "      <td>0.0</td>\n",
              "      <td>0.0</td>\n",
              "      <td>0.0</td>\n",
              "      <td>0.0</td>\n",
              "      <td>0.0</td>\n",
              "      <td>0.0</td>\n",
              "      <td>0.0</td>\n",
              "      <td>0.0</td>\n",
              "      <td>0.0</td>\n",
              "      <td>0.0</td>\n",
              "      <td>...</td>\n",
              "      <td>0.0</td>\n",
              "      <td>0.0</td>\n",
              "      <td>0.0</td>\n",
              "      <td>0.0</td>\n",
              "      <td>0.0</td>\n",
              "      <td>0.0</td>\n",
              "      <td>0.0</td>\n",
              "      <td>0.0</td>\n",
              "      <td>0.0</td>\n",
              "      <td>0.0</td>\n",
              "    </tr>\n",
              "    <tr>\n",
              "      <th>1</th>\n",
              "      <td>0.0</td>\n",
              "      <td>0.0</td>\n",
              "      <td>0.0</td>\n",
              "      <td>0.0</td>\n",
              "      <td>0.0</td>\n",
              "      <td>0.0</td>\n",
              "      <td>0.0</td>\n",
              "      <td>0.0</td>\n",
              "      <td>0.0</td>\n",
              "      <td>0.0</td>\n",
              "      <td>...</td>\n",
              "      <td>0.0</td>\n",
              "      <td>0.0</td>\n",
              "      <td>0.0</td>\n",
              "      <td>0.0</td>\n",
              "      <td>0.0</td>\n",
              "      <td>0.0</td>\n",
              "      <td>0.0</td>\n",
              "      <td>0.0</td>\n",
              "      <td>0.0</td>\n",
              "      <td>0.0</td>\n",
              "    </tr>\n",
              "    <tr>\n",
              "      <th>2</th>\n",
              "      <td>0.0</td>\n",
              "      <td>0.0</td>\n",
              "      <td>0.0</td>\n",
              "      <td>0.0</td>\n",
              "      <td>0.0</td>\n",
              "      <td>0.0</td>\n",
              "      <td>0.0</td>\n",
              "      <td>0.0</td>\n",
              "      <td>0.0</td>\n",
              "      <td>0.0</td>\n",
              "      <td>...</td>\n",
              "      <td>0.0</td>\n",
              "      <td>0.0</td>\n",
              "      <td>0.0</td>\n",
              "      <td>0.0</td>\n",
              "      <td>0.0</td>\n",
              "      <td>0.0</td>\n",
              "      <td>0.0</td>\n",
              "      <td>0.0</td>\n",
              "      <td>0.0</td>\n",
              "      <td>0.0</td>\n",
              "    </tr>\n",
              "    <tr>\n",
              "      <th>3</th>\n",
              "      <td>0.0</td>\n",
              "      <td>0.0</td>\n",
              "      <td>0.0</td>\n",
              "      <td>0.0</td>\n",
              "      <td>0.0</td>\n",
              "      <td>0.0</td>\n",
              "      <td>0.0</td>\n",
              "      <td>0.0</td>\n",
              "      <td>0.0</td>\n",
              "      <td>0.0</td>\n",
              "      <td>...</td>\n",
              "      <td>0.0</td>\n",
              "      <td>0.0</td>\n",
              "      <td>0.0</td>\n",
              "      <td>0.0</td>\n",
              "      <td>0.0</td>\n",
              "      <td>0.0</td>\n",
              "      <td>0.0</td>\n",
              "      <td>0.0</td>\n",
              "      <td>0.0</td>\n",
              "      <td>0.0</td>\n",
              "    </tr>\n",
              "    <tr>\n",
              "      <th>4</th>\n",
              "      <td>0.0</td>\n",
              "      <td>0.0</td>\n",
              "      <td>0.0</td>\n",
              "      <td>0.0</td>\n",
              "      <td>0.0</td>\n",
              "      <td>0.0</td>\n",
              "      <td>0.0</td>\n",
              "      <td>0.0</td>\n",
              "      <td>0.0</td>\n",
              "      <td>0.0</td>\n",
              "      <td>...</td>\n",
              "      <td>0.0</td>\n",
              "      <td>0.0</td>\n",
              "      <td>0.0</td>\n",
              "      <td>0.0</td>\n",
              "      <td>0.0</td>\n",
              "      <td>0.0</td>\n",
              "      <td>0.0</td>\n",
              "      <td>0.0</td>\n",
              "      <td>0.0</td>\n",
              "      <td>0.0</td>\n",
              "    </tr>\n",
              "    <tr>\n",
              "      <th>...</th>\n",
              "      <td>...</td>\n",
              "      <td>...</td>\n",
              "      <td>...</td>\n",
              "      <td>...</td>\n",
              "      <td>...</td>\n",
              "      <td>...</td>\n",
              "      <td>...</td>\n",
              "      <td>...</td>\n",
              "      <td>...</td>\n",
              "      <td>...</td>\n",
              "      <td>...</td>\n",
              "      <td>...</td>\n",
              "      <td>...</td>\n",
              "      <td>...</td>\n",
              "      <td>...</td>\n",
              "      <td>...</td>\n",
              "      <td>...</td>\n",
              "      <td>...</td>\n",
              "      <td>...</td>\n",
              "      <td>...</td>\n",
              "      <td>...</td>\n",
              "    </tr>\n",
              "    <tr>\n",
              "      <th>56740</th>\n",
              "      <td>0.0</td>\n",
              "      <td>0.0</td>\n",
              "      <td>0.0</td>\n",
              "      <td>0.0</td>\n",
              "      <td>0.0</td>\n",
              "      <td>0.0</td>\n",
              "      <td>0.0</td>\n",
              "      <td>0.0</td>\n",
              "      <td>0.0</td>\n",
              "      <td>0.0</td>\n",
              "      <td>...</td>\n",
              "      <td>0.0</td>\n",
              "      <td>0.0</td>\n",
              "      <td>0.0</td>\n",
              "      <td>0.0</td>\n",
              "      <td>0.0</td>\n",
              "      <td>0.0</td>\n",
              "      <td>0.0</td>\n",
              "      <td>0.0</td>\n",
              "      <td>0.0</td>\n",
              "      <td>0.0</td>\n",
              "    </tr>\n",
              "    <tr>\n",
              "      <th>56741</th>\n",
              "      <td>0.0</td>\n",
              "      <td>0.0</td>\n",
              "      <td>0.0</td>\n",
              "      <td>0.0</td>\n",
              "      <td>0.0</td>\n",
              "      <td>0.0</td>\n",
              "      <td>0.0</td>\n",
              "      <td>0.0</td>\n",
              "      <td>0.0</td>\n",
              "      <td>0.0</td>\n",
              "      <td>...</td>\n",
              "      <td>0.0</td>\n",
              "      <td>0.0</td>\n",
              "      <td>0.0</td>\n",
              "      <td>0.0</td>\n",
              "      <td>0.0</td>\n",
              "      <td>0.0</td>\n",
              "      <td>0.0</td>\n",
              "      <td>0.0</td>\n",
              "      <td>0.0</td>\n",
              "      <td>0.0</td>\n",
              "    </tr>\n",
              "    <tr>\n",
              "      <th>56742</th>\n",
              "      <td>0.0</td>\n",
              "      <td>0.0</td>\n",
              "      <td>0.0</td>\n",
              "      <td>0.0</td>\n",
              "      <td>0.0</td>\n",
              "      <td>0.0</td>\n",
              "      <td>0.0</td>\n",
              "      <td>0.0</td>\n",
              "      <td>0.0</td>\n",
              "      <td>0.0</td>\n",
              "      <td>...</td>\n",
              "      <td>0.0</td>\n",
              "      <td>0.0</td>\n",
              "      <td>0.0</td>\n",
              "      <td>0.0</td>\n",
              "      <td>0.0</td>\n",
              "      <td>0.0</td>\n",
              "      <td>0.0</td>\n",
              "      <td>0.0</td>\n",
              "      <td>0.0</td>\n",
              "      <td>0.0</td>\n",
              "    </tr>\n",
              "    <tr>\n",
              "      <th>56743</th>\n",
              "      <td>0.0</td>\n",
              "      <td>0.0</td>\n",
              "      <td>0.0</td>\n",
              "      <td>0.0</td>\n",
              "      <td>0.0</td>\n",
              "      <td>0.0</td>\n",
              "      <td>0.0</td>\n",
              "      <td>0.0</td>\n",
              "      <td>0.0</td>\n",
              "      <td>0.0</td>\n",
              "      <td>...</td>\n",
              "      <td>0.0</td>\n",
              "      <td>0.0</td>\n",
              "      <td>0.0</td>\n",
              "      <td>0.0</td>\n",
              "      <td>0.0</td>\n",
              "      <td>0.0</td>\n",
              "      <td>0.0</td>\n",
              "      <td>0.0</td>\n",
              "      <td>0.0</td>\n",
              "      <td>0.0</td>\n",
              "    </tr>\n",
              "    <tr>\n",
              "      <th>56744</th>\n",
              "      <td>0.0</td>\n",
              "      <td>0.0</td>\n",
              "      <td>0.0</td>\n",
              "      <td>0.0</td>\n",
              "      <td>0.0</td>\n",
              "      <td>0.0</td>\n",
              "      <td>0.0</td>\n",
              "      <td>0.0</td>\n",
              "      <td>0.0</td>\n",
              "      <td>0.0</td>\n",
              "      <td>...</td>\n",
              "      <td>0.0</td>\n",
              "      <td>0.0</td>\n",
              "      <td>0.0</td>\n",
              "      <td>0.0</td>\n",
              "      <td>0.0</td>\n",
              "      <td>0.0</td>\n",
              "      <td>0.0</td>\n",
              "      <td>0.0</td>\n",
              "      <td>0.0</td>\n",
              "      <td>0.0</td>\n",
              "    </tr>\n",
              "  </tbody>\n",
              "</table>\n",
              "<p>56745 rows × 3000 columns</p>\n",
              "</div>\n",
              "      <button class=\"colab-df-convert\" onclick=\"convertToInteractive('df-e9156352-5236-471f-9ef6-8851bdd9c332')\"\n",
              "              title=\"Convert this dataframe to an interactive table.\"\n",
              "              style=\"display:none;\">\n",
              "        \n",
              "  <svg xmlns=\"http://www.w3.org/2000/svg\" height=\"24px\"viewBox=\"0 0 24 24\"\n",
              "       width=\"24px\">\n",
              "    <path d=\"M0 0h24v24H0V0z\" fill=\"none\"/>\n",
              "    <path d=\"M18.56 5.44l.94 2.06.94-2.06 2.06-.94-2.06-.94-.94-2.06-.94 2.06-2.06.94zm-11 1L8.5 8.5l.94-2.06 2.06-.94-2.06-.94L8.5 2.5l-.94 2.06-2.06.94zm10 10l.94 2.06.94-2.06 2.06-.94-2.06-.94-.94-2.06-.94 2.06-2.06.94z\"/><path d=\"M17.41 7.96l-1.37-1.37c-.4-.4-.92-.59-1.43-.59-.52 0-1.04.2-1.43.59L10.3 9.45l-7.72 7.72c-.78.78-.78 2.05 0 2.83L4 21.41c.39.39.9.59 1.41.59.51 0 1.02-.2 1.41-.59l7.78-7.78 2.81-2.81c.8-.78.8-2.07 0-2.86zM5.41 20L4 18.59l7.72-7.72 1.47 1.35L5.41 20z\"/>\n",
              "  </svg>\n",
              "      </button>\n",
              "      \n",
              "  <style>\n",
              "    .colab-df-container {\n",
              "      display:flex;\n",
              "      flex-wrap:wrap;\n",
              "      gap: 12px;\n",
              "    }\n",
              "\n",
              "    .colab-df-convert {\n",
              "      background-color: #E8F0FE;\n",
              "      border: none;\n",
              "      border-radius: 50%;\n",
              "      cursor: pointer;\n",
              "      display: none;\n",
              "      fill: #1967D2;\n",
              "      height: 32px;\n",
              "      padding: 0 0 0 0;\n",
              "      width: 32px;\n",
              "    }\n",
              "\n",
              "    .colab-df-convert:hover {\n",
              "      background-color: #E2EBFA;\n",
              "      box-shadow: 0px 1px 2px rgba(60, 64, 67, 0.3), 0px 1px 3px 1px rgba(60, 64, 67, 0.15);\n",
              "      fill: #174EA6;\n",
              "    }\n",
              "\n",
              "    [theme=dark] .colab-df-convert {\n",
              "      background-color: #3B4455;\n",
              "      fill: #D2E3FC;\n",
              "    }\n",
              "\n",
              "    [theme=dark] .colab-df-convert:hover {\n",
              "      background-color: #434B5C;\n",
              "      box-shadow: 0px 1px 3px 1px rgba(0, 0, 0, 0.15);\n",
              "      filter: drop-shadow(0px 1px 2px rgba(0, 0, 0, 0.3));\n",
              "      fill: #FFFFFF;\n",
              "    }\n",
              "  </style>\n",
              "\n",
              "      <script>\n",
              "        const buttonEl =\n",
              "          document.querySelector('#df-e9156352-5236-471f-9ef6-8851bdd9c332 button.colab-df-convert');\n",
              "        buttonEl.style.display =\n",
              "          google.colab.kernel.accessAllowed ? 'block' : 'none';\n",
              "\n",
              "        async function convertToInteractive(key) {\n",
              "          const element = document.querySelector('#df-e9156352-5236-471f-9ef6-8851bdd9c332');\n",
              "          const dataTable =\n",
              "            await google.colab.kernel.invokeFunction('convertToInteractive',\n",
              "                                                     [key], {});\n",
              "          if (!dataTable) return;\n",
              "\n",
              "          const docLinkHtml = 'Like what you see? Visit the ' +\n",
              "            '<a target=\"_blank\" href=https://colab.research.google.com/notebooks/data_table.ipynb>data table notebook</a>'\n",
              "            + ' to learn more about interactive tables.';\n",
              "          element.innerHTML = '';\n",
              "          dataTable['output_type'] = 'display_data';\n",
              "          await google.colab.output.renderOutput(dataTable, element);\n",
              "          const docLink = document.createElement('div');\n",
              "          docLink.innerHTML = docLinkHtml;\n",
              "          element.appendChild(docLink);\n",
              "        }\n",
              "      </script>\n",
              "    </div>\n",
              "  </div>\n",
              "  "
            ],
            "text/plain": [
              "       _beautifulkeezi  _sqquad  aap   ab  abl  abo  absolut  abt  abus  \\\n",
              "0                  0.0      0.0  0.0  0.0  0.0  0.0      0.0  0.0   0.0   \n",
              "1                  0.0      0.0  0.0  0.0  0.0  0.0      0.0  0.0   0.0   \n",
              "2                  0.0      0.0  0.0  0.0  0.0  0.0      0.0  0.0   0.0   \n",
              "3                  0.0      0.0  0.0  0.0  0.0  0.0      0.0  0.0   0.0   \n",
              "4                  0.0      0.0  0.0  0.0  0.0  0.0      0.0  0.0   0.0   \n",
              "...                ...      ...  ...  ...  ...  ...      ...  ...   ...   \n",
              "56740              0.0      0.0  0.0  0.0  0.0  0.0      0.0  0.0   0.0   \n",
              "56741              0.0      0.0  0.0  0.0  0.0  0.0      0.0  0.0   0.0   \n",
              "56742              0.0      0.0  0.0  0.0  0.0  0.0      0.0  0.0   0.0   \n",
              "56743              0.0      0.0  0.0  0.0  0.0  0.0      0.0  0.0   0.0   \n",
              "56744              0.0      0.0  0.0  0.0  0.0  0.0      0.0  0.0   0.0   \n",
              "\n",
              "       accept  ...   ºð   ¼ã   ¼ï   ¼ð   ½ï   ½ð   ¾ð   à¹   ï¼   ó¾  \n",
              "0         0.0  ...  0.0  0.0  0.0  0.0  0.0  0.0  0.0  0.0  0.0  0.0  \n",
              "1         0.0  ...  0.0  0.0  0.0  0.0  0.0  0.0  0.0  0.0  0.0  0.0  \n",
              "2         0.0  ...  0.0  0.0  0.0  0.0  0.0  0.0  0.0  0.0  0.0  0.0  \n",
              "3         0.0  ...  0.0  0.0  0.0  0.0  0.0  0.0  0.0  0.0  0.0  0.0  \n",
              "4         0.0  ...  0.0  0.0  0.0  0.0  0.0  0.0  0.0  0.0  0.0  0.0  \n",
              "...       ...  ...  ...  ...  ...  ...  ...  ...  ...  ...  ...  ...  \n",
              "56740     0.0  ...  0.0  0.0  0.0  0.0  0.0  0.0  0.0  0.0  0.0  0.0  \n",
              "56741     0.0  ...  0.0  0.0  0.0  0.0  0.0  0.0  0.0  0.0  0.0  0.0  \n",
              "56742     0.0  ...  0.0  0.0  0.0  0.0  0.0  0.0  0.0  0.0  0.0  0.0  \n",
              "56743     0.0  ...  0.0  0.0  0.0  0.0  0.0  0.0  0.0  0.0  0.0  0.0  \n",
              "56744     0.0  ...  0.0  0.0  0.0  0.0  0.0  0.0  0.0  0.0  0.0  0.0  \n",
              "\n",
              "[56745 rows x 3000 columns]"
            ]
          },
          "execution_count": 28,
          "metadata": {},
          "output_type": "execute_result"
        }
      ],
      "source": [
        "tfidf_df"
      ]
    },
    {
      "cell_type": "code",
      "execution_count": 29,
      "metadata": {
        "colab": {
          "base_uri": "https://localhost:8080/"
        },
        "id": "f9VaLrfIxHC_",
        "outputId": "5a2b83c7-d524-4971-a888-6294443063a2"
      },
      "outputs": [
        {
          "name": "stdout",
          "output_type": "stream",
          "text": [
            "['_beautifulkeezi', '_sqquad', 'aap', 'ab', 'abl', 'abo', 'absolut', 'abt', 'abus', 'accept', 'accid', 'accord', 'account', 'accus', 'ace', 'achiev', 'acn', 'act', 'actin', 'action', 'activ', 'actor', 'actress', 'actual', 'ad', 'adam', 'adapt', 'add', 'addict', 'address', 'admit', 'adopt', 'ador', 'adult', 'advanc', 'adventur', 'advic', 'af', 'affect', 'affirm', 'afford', 'afraid', 'africa', 'african', 'afternoon', 'age', 'agenda', 'ago', 'agre', 'ah', 'ahead', 'ai', 'aicl', 'aid', 'aim', 'aint', 'air', 'airpo', 'aist', 'aka', 'al', 'alabama', 'alarm', 'albino', 'album', 'alcohol', 'alex', 'ali', 'alien', 'aliv', 'allah', 'allahsoil', 'alli', 'allig', 'allow', 'alon', 'alot', 'alreadi', 'alright', 'altern', 'altright', 'altwaystoh', 'alway', 'amaz', 'amazon', 'amber', 'amen', 'america', 'american', 'amo', 'amp', 'amsterdam', 'amwrit', 'anal', 'analyt', 'anchor', 'android', 'andâ', 'angel', 'anger', 'angri', 'anim', 'ann', 'anniversari', 'announc', 'annoy', 'annual', 'anoth', 'answer', 'anthem', 'anti', 'antirac', 'anxieti', 'anxiou', 'anybodi', 'anymor', 'anyon', 'anyth', 'anywher', 'ap', 'apart', 'ape', 'apolog', 'app', 'appar', 'appear', 'appl', 'appli', 'appoint', 'appreci', 'april', 'arab', 'area', 'argu', 'argument', 'arm', 'armi', 'arrest', 'arriv', 'asham', 'asian', 'ask', 'asleep', 'ass', 'assault', 'asshol', 'associ', 'assum', 'astrolog', 'ate', 'athlet', 'atlanta', 'attack', 'attempt', 'attend', 'attent', 'attitud', 'attract', 'aud', 'august', 'aunt', 'austin', 'australia', 'author', 'automat', 'avail', 'averag', 'avi', 'avoid', 'aw', 'await', 'awak', 'awar', 'award', 'away', 'awesom', 'aww', 'aye', 'aâ', 'babe', 'babi', 'background', 'bacon', 'bad', 'baddest', 'badli', 'bae', 'bag', 'bake', 'baker', 'balanc', 'bald', 'ball', 'ban', 'band', 'bang', 'bank', 'bar', 'barackobama', 'barcelona', 'bare', 'base', 'basebal', 'bash', 'basi', 'basic', 'basketbal', 'bastard', 'bat', 'bath', 'battl', 'bay', 'bbc', 'bbq', 'bc', 'bday', 'beach', 'bean', 'beaner', 'beani', 'bear', 'beard', 'beat', 'beauti', 'becom', 'bed', 'bee', 'beef', 'beer', 'beg', 'begin', 'behappi', 'bein', 'belief', 'believ', 'bell', 'belong', 'benefit', 'berlin', 'berni', 'besid', 'best', 'bestfriend', 'besti', 'bestsel', 'bet', 'betray', 'better', 'beyonc', 'bf', 'bff', 'big', 'bigger', 'biggest', 'bigot', 'bigotri', 'bihday', 'bihdaygirl', 'bike', 'bikini', 'bing', 'bio', 'bird', 'birthday', 'bit', 'bitch', 'bitcoin', 'bite', 'bitter', 'bjp', 'black', 'blackandwhit', 'blacklivesmatt', 'blah', 'blame', 'blast', 'bless', 'blew', 'blind', 'bliss', 'blm', 'block', 'blog', 'blogger', 'blond', 'blood', 'bloodi', 'blow', 'blue', 'blunt', 'blur', 'bo', 'board', 'boat', 'bob', 'bobbi', 'bodi', 'bogota', 'boi', 'bomb', 'bond', 'bone', 'bong', 'boo', 'boob', 'book', 'bookieg', 'boom', 'boot', 'booti', 'border', 'bore', 'born', 'boss', 'boston', 'bother', 'bottl', 'bought', 'bounc', 'bouncingbabi', 'bound', 'bout', 'bow', 'bowl', 'box', 'boy', 'boycott', 'boyfriend', 'bra', 'brag', 'brain', 'brand', 'brave', 'brazil', 'bread', 'break', 'breakfast', 'breath', 'breed', 'brexit', 'bride', 'bridg', 'bright', 'brighton', 'brilliant', 'bring', 'british', 'bro', 'broad', 'broke', 'broken', 'broker', 'brooklyn', 'brother', 'brought', 'brown', 'browni', 'bruh', 'brunch', 'brunett', 'bs', 'bt', 'btw', 'bu', 'bubbl', 'buck', 'bucket', 'buckm', 'bud', 'buddi', 'buffalo', 'build', 'built', 'bull', 'bullet', 'bulli', 'bullshit', 'bum', 'bump', 'bunch', 'bunni', 'burger', 'burn', 'burnt', 'busi', 'bust', 'butt', 'butter', 'butterfli', 'button', 'buy', 'buzz', 'bye', 'ca', 'cake', 'calgari', 'cali', 'california', 'callin', 'callmerenee_', 'calm', 'came', 'camera', 'camp', 'campaign', 'canada', 'canadian', 'cancel', 'cancer', 'candi', 'candid', 'candl', 'cannon', 'cantwait', 'cap', 'captain', 'caption', 'car', 'card', 'care', 'career', 'carl', 'carri', 'case', 'cash', 'cast', 'cat', 'catch', 'caturday', 'caught', 'caus', 'causewereguy', 'cav', 'cc', 'cd', 'ceain', 'celebr', 'center', 'centr', 'chain', 'chair', 'challeng', 'champion', 'chanc', 'chang', 'channel', 'chapter', 'charact', 'charg', 'chariti', 'charli', 'chase', 'chat', 'cheap', 'cheat', 'check', 'cheer', 'chees', 'cherri', 'chicago', 'chick', 'chicken', 'chief', 'child', 'childhood', 'childish', 'children', 'chill', 'chillin', 'china', 'chines', 'chink', 'chip', 'chocol', 'choic', 'choke', 'choos', 'chosen', 'chri', 'christ', 'christian', 'christina', 'christinagrimmi', 'christma', 'chug', 'chunki', 'church', 'cinema', 'circl', 'citi', 'citizen', 'claim', 'clam', 'clap', 'class', 'classi', 'classic', 'clean', 'clear', 'clearli', 'cleveland', 'click', 'client', 'climb', 'clinton', 'clip', 'clock', 'close', 'closer', 'cloth', 'cloud', 'clown', 'club', 'clue', 'cnn', 'coach', 'cock', 'cocktail', 'code', 'coffe', 'cold', 'coldplay', 'coley_ce', 'collect', 'colleg', 'colombia', 'color', 'colour', 'com', 'come', 'comedi', 'comic', 'comin', 'comment', 'commerci', 'commit', 'common', 'commun', 'compani', 'compar', 'compet', 'competit', 'complain', 'complet', 'comput', 'conc', 'concern', 'condemn', 'condit', 'condol', 'confer', 'confid', 'confirm', 'confus', 'congrat', 'congratul', 'congress', 'conjur', 'connect', 'conserv', 'consid', 'constantli', 'constitut', 'contact', 'content', 'contest', 'continu', 'contract', 'control', 'convers', 'convinc', 'cook', 'cooki', 'cool', 'coolâ', 'coon', 'cop', 'copi', 'corner', 'corni', 'correct', 'corrupt', 'cost', 'costum', 'cotton', 'cou', 'couch', 'count', 'countdown', 'countri', 'coupl', 'courag', 'cours', 'court', 'cousin', 'cover', 'cow', 'coward', 'cowboy', 'cox', 'crack', 'cracker', 'craft', 'crap', 'crash', 'crazi', 'cream', 'creat', 'creativ', 'credit', 'crew', 'cri', 'crib', 'crime', 'crimin', 'crippl', 'crist', 'critic', 'crook', 'cross', 'crow', 'crowd', 'cruis', 'crush', 'crystal', 'ctfu', 'cu', 'cucumb', 'cuddl', 'cuf', 'cuh', 'cuhcuhcuh', 'cultur', 'cum', 'cunt', 'cup', 'current', 'curri', 'curv', 'custom', 'cut', 'cute', 'cutest', 'cuti', 'cuz', 'cycl', 'da', 'dad', 'daddi', 'daili', 'dalla', 'dam', 'damag', 'damn', 'danc', 'dancer', 'danger', 'daniel', 'dare', 'dark', 'dat', 'data', 'date', 'daughter', 'david', 'dawg', 'dawn', 'day', 'dayâ', 'dayð', 'dc', 'dead', 'deal', 'dear', 'death', 'debat', 'decad', 'decid', 'decis', 'declar', 'decor', 'dedic', 'deep', 'def', 'defeat', 'defend', 'defens', 'definit', 'degre', 'delay', 'delet', 'deletetweet', 'delici', 'delight', 'deliv', 'deliveri', 'dem', 'demand', 'democraci', 'democrat', 'den', 'deni', 'denial', 'depend', 'depress', 'derek', 'describ', 'dese', 'deserv', 'design', 'desper', 'despit', 'destini', 'destroy', 'determin', 'detroit', 'develop', 'devil', 'dey', 'di', 'diamond', 'dick', 'didnt', 'die', 'diet', 'differ', 'difficult', 'dig', 'dinner', 'dip', 'direct', 'director', 'dirti', 'disappoint', 'discov', 'discrimin', 'discuss', 'diseas', 'disgrac', 'disgust', 'dish', 'disney', 'disrespect', 'diss', 'distanc', 'dive', 'divers', 'divorc', 'diy', 'dj', 'djzeeti', 'dm', 'dnt', 'doctor', 'doe', 'doesnt', 'dog', 'doggi', 'doin', 'dollar', 'domin', 'donald', 'donat', 'dont', 'door', 'dope', 'dori', 'doubl', 'doubt', 'download', 'downtown', 'dr', 'draft', 'drag', 'dragon', 'drake', 'drama', 'draw', 'dream', 'dress', 'dri', 'drink', 'drive', 'driver', 'drop', 'drown', 'drug', 'drunk', 'duck', 'dude', 'duh', 'dumb', 'dumbass', 'dump', 'duti', 'dyke', 'eagl', 'eah', 'ear', 'earli', 'earn', 'earth', 'easi', 'easier', 'easili', 'east', 'eat', 'ebola', 'ed', 'edc', 'edinburgh', 'edit', 'edm', 'educ', 'effect', 'effo', 'egg', 'ego', 'eh', 'elect', 'electron', 'els', 'em', 'email', 'embarrass', 'embrac', 'emo', 'emoji', 'emot', 'employ', 'employe', 'empti', 'en', 'encourag', 'end', 'endors', 'enemi', 'energi', 'eng', 'engag', 'engin', 'england', 'english', 'enjoy', 'enteain', 'enter', 'entertain', 'entir', 'entrepreneur', 'environ', 'epic', 'episod', 'equal', 'er', 'escap', 'especi', 'espn', 'essenti', 'essentialoil', 'etsi', 'eu', 'eur', 'euro', 'europ', 'european', 'eva', 'eve', 'event', 'everi', 'everybodi', 'everyday', 'everyon', 'everyth', 'everytim', 'everywher', 'evil', 'ex', 'exactli', 'exam', 'exampl', 'excel', 'excit', 'excus', 'exercis', 'exist', 'expans', 'expect', 'expens', 'experi', 'explain', 'explor', 'expos', 'express', 'extra', 'extrem', 'eye', 'eyebrow', 'fa', 'fab', 'fabul', 'face', 'facebook', 'fact', 'factori', 'fade', 'fag', 'faggot', 'fail', 'fair', 'fairi', 'faith', 'fake', 'fall', 'fals', 'fam', 'famili', 'familytim', 'famou', 'fan', 'fantasi', 'fantast', 'far', 'farm', 'fascist', 'fashion', 'fast', 'faster', 'fat', 'father', 'fathersday', 'fault', 'fav', 'fave', 'favor', 'favorit', 'favourit', 'fb', 'fck', 'fear', 'feather', 'featur', 'fed', 'feed', 'feel', 'feelin', 'feet', 'feliz', 'fell', 'fella', 'fellow', 'felt', 'femal', 'femin', 'feminismiscanc', 'feminismisterror', 'feminismmuktbharat', 'feminist', 'ferguson', 'festiv', 'ff', 'field', 'fight', 'fighter', 'figur', 'film', 'filter', 'final', 'findingdori', 'fine', 'finger', 'finish', 'finna', 'fish', 'fist', 'fit', 'fitfam', 'fix', 'fl', 'flag', 'flagday', 'flappi', 'flash', 'flat', 'flex', 'fli', 'flight', 'flip', 'flirt', 'floor', 'florida', 'flow', 'flower', 'fml', 'fo', 'focu', 'focus', 'foh', 'folk', 'follow', 'followm', 'followâ', 'food', 'foodi', 'foodporn', 'fool', 'foot', 'footbal', 'forc', 'forecast', 'foreign', 'forev', 'forex', 'forget', 'forgiv', 'forgot', 'form', 'forward', 'fought', 'fox', 'fr', 'franc', 'frank', 'fraud', 'freak', 'free', 'freedom', 'french', 'fresh', 'freshman', 'fri', 'friday', 'fridayfeel', 'friend', 'friendli', 'friendlyassh', 'friendship', 'friyay', 'frm', 'fruit', 'frustrat', 'ft', 'fuc', 'fucc', 'fuck', 'fucker', 'fuckin', 'fuher', 'fuk', 'fulli', 'fun', 'fund', 'funday', 'funer', 'funni', 'funnypicsdepot', 'funâ', 'futur', 'fuzzi', 'fw', 'fâ', 'ga', 'gabba', 'gabbi', 'gain', 'game', 'gamedev', 'gamer', 'gang', 'garbag', 'garden', 'gator', 'gave', 'gay', 'gb', 'gbp', 'gear', 'geek', 'gel', 'gemini', 'gener', 'genocid', 'genuin', 'georg', 'germani', 'gettin', 'gf', 'ghetto', 'ghost', 'giant', 'gif', 'gift', 'gig', 'gin', 'girl', 'girlfriend', 'given', 'glad', 'glass', 'global', 'goal', 'goat', 'god', 'goe', 'goin', 'gold', 'golden', 'golf', 'gon', 'gone', 'good', 'goodby', 'goodday', 'goodmorn', 'goodnight', 'goodtim', 'goodvib', 'goofi', 'googl', 'gook', 'gop', 'gorgeou', 'gorilla', 'gossip', 'got', 'gotten', 'gov', 'govern', 'governor', 'govt', 'grab', 'grace', 'grade', 'graduat', 'graham', 'grand', 'grandma', 'grandpa', 'grass', 'grate', 'gratitud', 'great', 'greatest', 'greec', 'green', 'greet', 'grimmi', 'grind', 'grizzboadam', 'groom', 'gross', 'ground', 'group', 'grow', 'grown', 'growth', 'gt', 'gucci', 'guess', 'guest', 'guilti', 'guitar', 'gun', 'gunna', 'gut', 'guy', 'gym', 'ha', 'habit', 'hack', 'haha', 'hahaha', 'hahahaha', 'hair', 'haircut', 'hairi', 'half', 'hall', 'halloween', 'hand', 'handl', 'handmad', 'handsom', 'hang', 'happen', 'happi', 'happier', 'happiest', 'harass', 'hard', 'hardcor', 'harder', 'hardli', 'harri', 'hashtag', 'hat', 'hate', 'hater', 'hatin', 'hatr', 'havin', 'hawaii', 'hea', 'heabreak', 'heabroken', 'head', 'heal', 'health', 'healthi', 'hear', 'heard', 'heart', 'heat', 'heaven', 'held', 'hell', 'hella', 'hello', 'help', 'herbal', 'hero', 'hey', 'hi', 'hick', 'hide', 'high', 'higher', 'highest', 'highli', 'highlight', 'hilari', 'hill', 'hillari', 'hillbilli', 'hip', 'hiphop', 'hippi', 'hipster', 'hire', 'hispan', 'histori', 'hit', 'ho', 'hockey', 'hoe', 'hold', 'hole', 'holi', 'holiday', 'hollywood', 'home', 'homeless', 'homemad', 'homework', 'homi', 'homophob', 'honest', 'honestli', 'honey', 'honki', 'honor', 'hood', 'hook', 'hoosier', 'hop', 'hope', 'horni', 'horribl', 'horrif', 'horror', 'hors', 'hospit', 'host', 'hot', 'hotel', 'hour', 'hous', 'houston', 'hr', 'hs', 'ht', 'http', 'httâ', 'htâ', 'hu', 'hubbi', 'hug', 'huge', 'huh', 'human', 'humbl', 'humor', 'hump', 'humpday', 'hun', 'hungri', 'hunt', 'huntermoor', 'hurri', 'hurt', 'husband', 'hustl', 'hype', 'hypocrit', 'hâ', 'i_am', 'ibiza', 'ice', 'icecream', 'id', 'idc', 'idea', 'idgaf', 'idiot', 'idk', 'idntwearcondom', 'idol', 'idwp', 'ig', 'iger', 'ignor', 'ik', 'ill', 'illeg', 'illustr', 'im', 'ima', 'imag', 'imagin', 'imma', 'immigr', 'impact', 'impoant', 'impress', 'improv', 'ina', 'inch', 'incid', 'includ', 'increas', 'incred', 'inde', 'independ', 'index', 'indi', 'india', 'indian', 'indiedev', 'indiegamedev', 'industri', 'info', 'inform', 'ing', 'injur', 'ink', 'inkkofrosess', 'inlov', 'innoc', 'insan', 'insecur', 'inshot', 'insid', 'inspir', 'instadaili', 'instagood', 'instagram', 'instalik', 'instamood', 'instap', 'instead', 'insult', 'intellig', 'intern', 'internet', 'interview', 'introduc', 'invest', 'invit', 'involv', 'io', 'ion', 'iont', 'ipad', 'iphon', 'iraq', 'ireland', 'irish', 'iron', 'irrelev', 'isi', 'islam', 'island', 'israel', 'issu', 'itali', 'italian', 'itâ', 'ive', 'iâ', 'jack', 'jacket', 'jackson', 'jail', 'jam', 'jame', 'jan', 'japan', 'japanes', 'jawshoeeahhh', 'jay', 'jealou', 'jean', 'jersey', 'jesu', 'jet', 'jeter', 'jew', 'jewelri', 'jewish', 'jig', 'jihadi', 'jim', 'jimmi', 'jk', 'jo', 'job', 'jobsearch', 'joe', 'joebudden', 'john', 'johnni', 'johnson', 'join', 'joint', 'joke', 'jordan', 'journey', 'joy', 'joytrain', 'jpi', 'ju', 'judg', 'juic', 'juli', 'jump', 'june', 'justic', 'justin', 'kany', 'kardashian', 'karen', 'karma', 'kept', 'keshi', 'kevin', 'key', 'kick', 'kid', 'kieffer_jason', 'kill', 'killer', 'kim', 'kind', 'kinda', 'king', 'kingdom', 'kinghorsedick', 'kingtunchi_', 'kinki', 'kiss', 'kit', 'kitchen', 'kitten', 'kitti', 'kkk', 'knee', 'knew', 'kno', 'knock', 'know', 'knowledg', 'known', 'kobe', 'korea', 'la', 'label', 'lack', 'lad', 'ladi', 'laid', 'lake', 'laker', 'lame', 'land', 'languag', 'larg', 'larri', 'late', 'latepost', 'later', 'latest', 'latina', 'laugh', 'laughter', 'launch', 'law', 'lawofattract', 'lawyer', 'lay', 'lazi', 'lb', 'le', 'lead', 'leader', 'leadership', 'leagu', 'leak', 'leakag', 'lean', 'learn', 'leather', 'leav', 'lebron', 'lee', 'leed', 'leelucas_', 'left', 'leg', 'legal', 'legend', 'lem', 'lesbian', 'lesson', 'let', 'letter', 'level', 'lgbt', 'lgbtq', 'liar', 'liber', 'librari', 'libtard', 'lick', 'lie', 'life', 'lifeisgood', 'lifestyl', 'lifeâ', 'lift', 'light', 'lighttherapi', 'like', 'likeforlik', 'likeâ', 'lil', 'limit', 'line', 'link', 'lion', 'lip', 'lipstick', 'list', 'listen', 'lit', 'liter', 'littl', 'live', 'll', 'lmao', 'lmaoo', 'lmaooo', 'lmaoooo', 'lmfao', 'lmfaoo', 'lmfaooo', 'lo', 'loa', 'load', 'local', 'locat', 'lock', 'log', 'logic', 'login', 'logo', 'lol', 'london', 'lone', 'long', 'longer', 'look', 'lookin', 'loos', 'lord', 'losangel', 'lose', 'loser', 'loss', 'lost', 'lot', 'loud', 'love', 'loveislov', 'loveit', 'lovelif', 'lover', 'lovey', 'loveâ', 'lovin', 'low', 'lowkey', 'loyal', 'lt', 'luck', 'lucki', 'lunch', 'luv', 'luxuri', 'lyric', 'ma', 'mac', 'mad', 'madrid', 'maga', 'magic', 'mail', 'main', 'major', 'make', 'makeup', 'male', 'malevot', 'mall', 'mama', 'man', 'manag', 'manchest', 'mane', 'mani', 'maniac', 'mari', 'marijuana', 'mark', 'market', 'marri', 'marriag', 'marvel', 'mass', 'massacr', 'massag', 'massiv', 'master', 'match', 'mate', 'materi', 'materia', 'math', 'matt', 'matter', 'matur', 'mayb', 'mc', 'mcdonald', 'meal', 'mean', 'meant', 'meat', 'media', 'medic', 'medit', 'meet', 'melancholi', 'melancholymus', 'member', 'meme', 'memori', 'men', 'mental', 'mention', 'menu', 'mess', 'messag', 'messi', 'met', 'metal', 'mexican', 'mexico', 'mf', 'mi', 'miami', 'miamiâ', 'michael', 'michel', 'mickey', 'mid', 'middl', 'mike', 'mil', 'mile', 'miley', 'militari', 'milk', 'million', 'min', 'mind', 'mindset', 'mini', 'minor', 'minut', 'mirror', 'miser', 'misogyni', 'misogynist', 'miss', 'mistak', 'mix', 'mixtap', 'mlb', 'mo', 'moan', 'mobil', 'mock', 'mode', 'model', 'molli', 'mom', 'moment', 'momma', 'mommi', 'mon', 'monday', 'mondaymotiv', 'money', 'monkey', 'month', 'mood', 'moon', 'moral', 'morn', 'morningjo', 'moron', 'mother', 'motherfuck', 'motiv', 'mountain', 'mouth', 'movement', 'movi', 'mp', 'mr', 'msnbc', 'mt', 'multipl', 'mum', 'murder', 'music', 'muslim', 'muzzi', 'mylov', 'na', 'nah', 'nail', 'nake', 'nap', 'nasti', 'nation', 'nationalbestfriendsday', 'natur', 'naughti', 'naw', 'nazi', 'nba', 'nbafin', 'nd', 'near', 'nearli', 'neck', 'need', 'needa', 'neg', 'negro', 'neighbor', 'neighborhood', 'nephew', 'nerd', 'nerv', 'nervou', 'ness', 'netflix', 'network', 'neva', 'neverump', 'new', 'news', 'newyork', 'nfl', 'ng', 'nicca', 'nice', 'nick', 'nicki', 'niec', 'nig', 'nigga', 'niggah', 'niggaz', 'nigger', 'nigguh', 'night', 'nightclub', 'nike', 'nip', 'nippl', 'nite', 'nobodi', 'nofilt', 'noh', 'nomine', 'non', 'nope', 'normal', 'nose', 'note', 'noth', 'nothin', 'notic', 'notmypresid', 'novemb', 'nowaday', 'nowher', 'nowplay', 'np', 'nude', 'number', 'nun', 'nurs', 'nurseri', 'nut', 'ny', 'nyc', 'obama', 'obsess', 'obvious', 'ocean', 'odd', 'offend', 'offens', 'offer', 'offic', 'offici', 'oh', 'ohio', 'oil', 'oitnb', 'ok', 'okay', 'ol', 'old', 'older', 'ole', 'omg', 'onlin', 'oomf', 'ootd', 'op', 'open', 'oper', 'opinion', 'opposit', 'oppoun', 'optimist', 'option', 'orang', 'order', 'oreo', 'organ', 'orient', 'origin', 'orlando', 'orlandoshoot', 'oscar', 'outdoor', 'outfit', 'outrag', 'outsid', 'outta', 'owe', 'owner', 'pa', 'pac', 'pack', 'page', 'paid', 'pain', 'paint', 'pair', 'paladino', 'pancak', 'paner', 'pant', 'panti', 'papa', 'paper', 'paradis', 'parent', 'pari', 'park', 'parti', 'pass', 'passion', 'past', 'path', 'pathet', 'patient', 'paul', 'pay', 'pc', 'peac', 'peep', 'peni', 'peopl', 'perfect', 'perform', 'period', 'periscop', 'person', 'pet', 'peter', 'petti', 'phase', 'phone', 'photo', 'photograph', 'photographi', 'photooftheday', 'photoshoot', 'piano', 'pic', 'pick', 'picoftheday', 'pictur', 'pie', 'piec', 'pierc', 'pig', 'pill', 'pillow', 'pimp', 'pineappl', 'pink', 'pipe', 'piss', 'pit', 'piti', 'pizza', 'pl', 'place', 'plan', 'plane', 'planet', 'plant', 'plate', 'play', 'player', 'playin', 'playlist', 'playoff', 'pleas', 'pleasur', 'plenti', 'plu', 'plz', 'pm', 'po', 'pocket', 'podcast', 'poem', 'poetri', 'point', 'poland', 'polar', 'polic', 'polici', 'polit', 'politician', 'poll', 'pom', 'pool', 'poop', 'poor', 'pop', 'poppin', 'popular', 'porn', 'pose', 'posit', 'positivevib', 'possibl', 'post', 'poster', 'pot', 'potato', 'potu', 'pound', 'power', 'ppl', 'pr', 'practic', 'prais', 'pray', 'prayer', 'prayfororlando', 'pre', 'preach', 'preciou', 'prefer', 'pregnant', 'premier', 'prepar', 'present', 'presid', 'press', 'pressur', 'pretend', 'pretti', 'prevent', 'previou', 'price', 'priceless', 'pride', 'prime', 'princ', 'princess', 'print', 'prison', 'privat', 'privileg', 'prize', 'pro', 'prob', 'probabl', 'problem', 'process', 'produc', 'product', 'profession', 'profil', 'program', 'progress', 'project', 'prolli', 'prom', 'promis', 'promot', 'proof', 'propaganda', 'protect', 'protest', 'proud', 'prove', 'provid', 'ps', 'psycholog', 'public', 'pull', 'puls', 'pump', 'punch', 'punish', 'punjab', 'punk', 'puppi', 'purchas', 'pure', 'purpl', 'purpos', 'push', 'pussi', 'qualiti', 'queen', 'queer', 'question', 'quick', 'quiet', 'quit', 'quot', 'quoteoftheday', 'race', 'racial', 'racism', 'racist', 'radic', 'radio', 'rage', 'rain', 'rainbow', 'raini', 'rais', 'ralli', 'ramadan', 'ran', 'random', 'rang', 'rant', 'rap', 'rape', 'rapist', 'rapper', 'rare', 'rat', 'ratchet', 'rate', 'raw', 'ray', 'rd', 'reach', 'reaction', 'read', 'readi', 'real', 'realest', 'realis', 'realiti', 'realiz', 'realli', 'reason', 'receiv', 'recent', 'recip', 'recogn', 'record', 'recov', 'red', 'redneck', 'redskin', 'ref', 'refer', 'reflect', 'refus', 'regard', 'regardless', 'regist', 'regret', 'regular', 'reject', 'relat', 'relationship', 'relax', 'releas', 'relev', 'religion', 'remain', 'remark', 'remedi', 'rememb', 'remind', 'remix', 'remov', 'rent', 'rep', 'repeat', 'replac', 'repli', 'repo', 'report', 'repost', 'repres', 'republican', 'request', 'requir', 'research', 'resign', 'resist', 'resourc', 'respect', 'respond', 'respons', 'rest', 'restaur', 'result', 'retail', 'retard', 'retir', 'return', 'retweet', 'reunit', 'reveal', 'reveng', 'revers', 'review', 'revolut', 'reward', 'rhyme', 'rice', 'rich', 'rick', 'rid', 'ride', 'rider', 'ridicul', 'right', 'rihanna', 'ring', 'rip', 'ripchristina', 'ripchristinagrimmi', 'rise', 'risk', 'river', 'rn', 'road', 'roast', 'rob', 'robe', 'rock', 'role', 'roll', 'romanc', 'romant', 'roof', 'room', 'rooster', 'root', 'rose', 'round', 'rout', 'row', 'royal', 'rt', 'rub', 'rude', 'ruin', 'rule', 'run', 'russia', 'russian', 'sa', 'sad', 'sadli', 'safe', 'said', 'saint', 'salad', 'sale', 'salut', 'sam', 'sampl', 'san', 'sand', 'sandwich', 'sat', 'satisfi', 'saturday', 'sauc', 'savag', 'save', 'saw', 'say', 'sayin', 'sbabi', 'sbsylvest', 'scalli', 'scandal', 'scare', 'scari', 'scene', 'schedul', 'school', 'scienc', 'score', 'scotland', 'scott', 'scream', 'screen', 'screw', 'scum', 'se', 'sea', 'search', 'seashepherd', 'season', 'seat', 'second', 'secret', 'secur', 'seek', 'seen', 'select', 'self', 'selfi', 'selfish', 'sell', 'semit', 'senat', 'send', 'senior', 'sens', 'senseless', 'sensit', 'sent', 'sentenc', 'septemb', 'seri', 'seriou', 'serv', 'servic', 'session', 'set', 'settl', 'sever', 'sex', 'sexi', 'sexual', 'shade', 'shadi', 'shake', 'shall', 'shame', 'shape', 'share', 'shark', 'shave', 'shawti', 'sheen', 'shepherd', 'shi', 'shift', 'shine', 'ship', 'shirt', 'shit', 'shitti', 'sho', 'shock', 'shoe', 'shoot', 'shooter', 'shop', 'short', 'shot', 'shoulda', 'shout', 'shoutout', 'shower', 'shut', 'si', 'sick', 'sigh', 'sight', 'sign', 'sikh', 'silenc', 'silli', 'silver', 'simpl', 'simpli', 'simul', 'sinc', 'sing', 'singer', 'singl', 'sink', 'sir', 'sister', 'sit', 'site', 'situat', 'size', 'sjw', 'skate', 'sketch', 'skill', 'skin', 'skinni', 'sky', 'slam', 'slant', 'slap', 'slave', 'slaveri', 'slay', 'sleep', 'sleepi', 'slept', 'slice', 'slide', 'slip', 'slit', 'slope', 'sloppi', 'slow', 'slowli', 'slut', 'sma', 'smack', 'small', 'smart', 'smash', 'smell', 'smfh', 'smh', 'smile', 'smiley', 'smileâ', 'smith', 'smoke', 'snack', 'snap', 'snapchat', 'snapshot', 'snatch', 'sneak', 'snitch', 'snow', 'sober', 'soccer', 'social', 'socialmedia', 'societi', 'sock', 'soft', 'sold', 'sole', 'solo', 'solv', 'somebodi', 'someon', 'someth', 'somethin', 'sometim', 'somewher', 'son', 'song', 'soo', 'soon', 'sooo', 'soooo', 'sooooo', 'sorri', 'soul', 'sound', 'soundcloud', 'sourc', 'south', 'sox', 'spa', 'space', 'spain', 'spanish', 'spark', 'speak', 'speaker', 'special', 'speech', 'speed', 'spell', 'spend', 'spent', 'spic', 'spin', 'spirit', 'spiritu', 'spit', 'split', 'spo', 'spoil', 'spook', 'sport', 'spot', 'spray', 'spread', 'spring', 'squad', 'squar', 'ss', 'st', 'sta', 'stadium', 'staff', 'stage', 'stalk', 'stand', 'standard', 'stank', 'star', 'starbuck', 'stare', 'start', 'state', 'statement', 'station', 'statu', 'staup', 'stay', 'stblocjeremiah', 'steak', 'steal', 'step', 'steve', 'stfu', 'stick', 'stink', 'stock', 'stoke', 'stole', 'stomach', 'stomp', 'stone', 'stop', 'store', 'stori', 'storm', 'str', 'straight', 'strang', 'stranger', 'strawberri', 'stream', 'street', 'strength', 'stress', 'strike', 'strip', 'stripper', 'strong', 'stronger', 'struggl', 'stuck', 'student', 'studi', 'studio', 'stuff', 'stun', 'stunt', 'stupid', 'style', 'sub', 'subtweet', 'success', 'suck', 'suffer', 'suicid', 'suit', 'sum', 'summeim', 'summer', 'sun', 'sunday', 'sunni', 'sunnyday', 'sunset', 'sunshin', 'sup', 'super', 'superhero', 'suppo', 'suppoer', 'support', 'suppos', 'sure', 'surpris', 'surviv', 'sushi', 'suspect', 'suspend', 'swag', 'swear', 'sweat', 'sweet', 'swim', 'swing', 'switch', 'sydney', 'syria', 'sâ', 'ta', 'tabl', 'taco', 'tag', 'tagsforlik', 'taken', 'tale', 'talent', 'talk', 'talkin', 'tall', 'tampa', 'tan', 'tank', 'tape', 'target', 'task', 'tast', 'tat', 'tattoo', 'taught', 'tax', 'taylor', 'tb', 'tbh', 'tbt', 'tcot', 'tea', 'teabagg', 'teach', 'teacher', 'team', 'tear', 'tech', 'teen', 'teeth', 'tell', 'templ', 'tend', 'term', 'terribl', 'terror', 'terrorist', 'test', 'texa', 'text', 'tf', 'tgif', 'th', 'tha', 'thailand', 'thang', 'thank', 'thankyou', 'theatr', 'thecoreyholcomb', 'theme', 'therapi', 'theâ', 'thi', 'thing', 'think', 'thinkin', 'thirst', 'thirsti', 'tho', 'thot', 'thought', 'thousand', 'threat', 'threaten', 'threw', 'thrill', 'thrive', 'throat', 'throw', 'throwback', 'tht', 'thug', 'thursday', 'thx', 'ticket', 'tie', 'tiger', 'tight', 'til', 'till', 'time', 'timelin', 'tini', 'tip', 'tire', 'tit', 'titl', 'titti', 'tl', 'today', 'toddler', 'toe', 'togeth', 'tokyo', 'told', 'toler', 'tom', 'tomorrow', 'tone', 'tongu', 'toni', 'tonight', 'took', 'tool', 'topic', 'toptag', 'toronto', 'total', 'touch', 'tough', 'tour', 'town', 'toy', 'track', 'trade', 'tradit', 'traffic', 'tragedi', 'tragic', 'trail', 'trailer', 'train', 'traitor', 'tranni', 'transform', 'trap', 'trash', 'travel', 'treasur', 'treat', 'tree', 'trend', 'tri', 'trick', 'trip', 'tripl', 'trippin', 'troll', 'troubl', 'truck', 'true', 'truli', 'trump', 'trust', 'truth', 'tryin', 'tryna', 'trynna', 'tuesday', 'tumblr', 'tune', 'tupac', 'turkey', 'turn', 'tv', 'twat', 'tweet', 'twerk', 'twice', 'twin', 'twinki', 'twist', 'twitch', 'twitter', 'tx', 'ty', 'tyga', 'type', 'typic', 'tâ', 'udtapunjab', 'ugh', 'ugli', 'uh', 'uk', 'ukhx_int', 'ultim', 'um', 'unbeliev', 'uncl', 'understand', 'unfollow', 'unfoun', 'unhappi', 'uniform', 'union', 'unit', 'univers', 'unless', 'unlik', 'upcom', 'updat', 'upgrad', 'upload', 'upset', 'ur', 'urð', 'usa', 'usd', 'use', 'useless', 'user', 'usual', 'vacat', 'vagina', 'valentin', 'valu', 'van', 'vandalis', 'vast', 've', 'vega', 'vegan', 'vehicl', 'venu', 'vers', 'version', 'vet', 'vianawf', 'vibe', 'vicin', 'victim', 'victori', 'video', 'view', 'villag', 'vine', 'vintag', 'vinyl', 'violenc', 'violent', 'vip', 'virgin', 'virginia', 'visit', 'vk', 'voic', 'voiceofdstreetz', 'volunt', 'vote', 'voter', 'vs', 'vsco', 'wa', 'wack', 'wait', 'wake', 'wakeup', 'wale', 'walk', 'wall', 'wan', 'want', 'war', 'warm', 'warn', 'warrior', 'wash', 'washington', 'wassup', 'wast', 'wat', 'watch', 'water', 'watermelon', 'wave', 'way', 'wayn', 'wcw', 'weak', 'weapon', 'wear', 'weather', 'weav', 'web', 'webcam', 'websit', 'wed', 'wednesday', 'wednesdaywisdom', 'wee', 'weed', 'week', 'weekend', 'weight', 'weightloss', 'weird', 'welcom', 'wen', 'went', 'west', 'wet', 'wetback', 'wetter', 'wh', 'what_evaittak', 'whatev', 'whe', 'wheel', 'whenev', 'whilst', 'whine', 'whip', 'white', 'white_thunduh', 'whitey', 'whoop', 'whore', 'wide', 'wife', 'wifey', 'wig', 'wigga', 'wild', 'william', 'win', 'wind', 'window', 'wine', 'wing', 'winner', 'winter', 'wisdom', 'wise', 'wish', 'wit', 'wiz', 'wo', 'woh', 'woke', 'woman', 'women', 'wonder', 'wont', 'wood', 'woof', 'woohoo', 'wop', 'word', 'work', 'worker', 'workout', 'workshop', 'world', 'worldwid', 'worm', 'worri', 'wors', 'worship', 'worst', 'worth', 'wouldnt', 'wow', 'wrap', 'write', 'writer', 'written', 'wrong', 'wrote', 'wso', 'wtf', 'wwdc', 'wyattnuckel', 'xbox', 'xdsmooth', 'xoxo', 'xx', 'xxx', 'ya', 'yah', 'yall', 'yank', 'yanke', 'yay', 'ye', 'yea', 'yeah', 'year', 'yell', 'yellow', 'yep', 'yesterday', 'yo', 'yoga', 'yolo', 'york', 'young', 'youth', 'youtub', 'youâ', 'youð', 'yr', 'yu', 'yum', 'yummi', 'yung', 'yup', 'zebra', 'zen', 'zero', 'zone', 'ªð', '³ã', '³ð', 'µð', '¹ï', '¹ð', 'ºâ', 'ºï', 'ºð', '¼ã', '¼ï', '¼ð', '½ï', '½ð', '¾ð', 'à¹', 'ï¼', 'ó¾']\n"
          ]
        }
      ],
      "source": [
        "print(names)"
      ]
    },
    {
      "cell_type": "markdown",
      "metadata": {
        "id": "AItRXL2pjlHx"
      },
      "source": [
        "### Create trening data"
      ]
    },
    {
      "cell_type": "code",
      "execution_count": 30,
      "metadata": {
        "id": "DFc_5i-3-yQc"
      },
      "outputs": [],
      "source": [
        "X = tfidf_df\n",
        "Y = hatedf_copy['Toxicity']\n",
        "x_train, x_test, y_train, y_test = train_test_split(tfidf_df, hatedf_copy['Toxicity'], random_state=2022, test_size=0.25, shuffle=True)"
      ]
    },
    {
      "cell_type": "code",
      "execution_count": 88,
      "metadata": {
        "colab": {
          "base_uri": "https://localhost:8080/"
        },
        "id": "Kld3BZ4u9EMH",
        "outputId": "e94fc3d5-631d-4b7d-92d5-681be7073ba1"
      },
      "outputs": [
        {
          "name": "stdout",
          "output_type": "stream",
          "text": [
            "Train data count 42558\n",
            "Test data count 14187\n"
          ]
        }
      ],
      "source": [
        "print('Train data count', len(x_train))\n",
        "print('Test data count', len(x_test))"
      ]
    },
    {
      "cell_type": "markdown",
      "metadata": {
        "id": "qbPzW9NqjpfK"
      },
      "source": [
        "##Create Keras Sequential Model\n",
        "We had performed multiple experiments in shape, N of layers and Dropout values. Model below represents final state of model which provided the best results in given architecture. There are a lot of architectures available for sentiment analysis problem we were looking for LSTM one ([Dimensional Sentiment Analysis Using a Regional CNN-LSTM Model](https://aclanthology.org/P16-2037.pdf)) which we haven't implemented because of lack of time, it could've yield better results. We tested GloVe approach but unfortunately we hadn't created any working model."
      ]
    },
    {
      "cell_type": "code",
      "execution_count": 50,
      "metadata": {
        "colab": {
          "base_uri": "https://localhost:8080/"
        },
        "id": "VvWRaVTxrioB",
        "outputId": "924616ac-ca1b-4907-8aa1-80c4e5f66bcc"
      },
      "outputs": [
        {
          "name": "stdout",
          "output_type": "stream",
          "text": [
            "Model: \"sequential_3\"\n",
            "_________________________________________________________________\n",
            " Layer (type)                Output Shape              Param #   \n",
            "=================================================================\n",
            " dense_7 (Dense)             (None, 32)                96032     \n",
            "                                                                 \n",
            " dropout_4 (Dropout)         (None, 32)                0         \n",
            "                                                                 \n",
            " dense_8 (Dense)             (None, 1)                 33        \n",
            "                                                                 \n",
            "=================================================================\n",
            "Total params: 96,065\n",
            "Trainable params: 96,065\n",
            "Non-trainable params: 0\n",
            "_________________________________________________________________\n"
          ]
        }
      ],
      "source": [
        "model = keras.Sequential()\n",
        "model.add(layers.Dense(32,input_shape=(max_features_count,), activation='relu'))\n",
        "model.add(layers.Dropout(0.2))\n",
        "model.add(layers.Dense(1, activation='sigmoid'))\n",
        "model.summary()\n"
      ]
    },
    {
      "cell_type": "markdown",
      "metadata": {
        "id": "vwSTl7VglBM9"
      },
      "source": [
        "For loss function we've choose binary_crossentropy as we are dealing with binary value, only 2 output class (neutral, toxic)"
      ]
    },
    {
      "cell_type": "code",
      "execution_count": 51,
      "metadata": {
        "id": "jZD6Nw4NtgFE"
      },
      "outputs": [],
      "source": [
        "model.compile(loss = 'binary_crossentropy', optimizer = 'adam', metrics=['accuracy'])"
      ]
    },
    {
      "cell_type": "code",
      "execution_count": 52,
      "metadata": {
        "colab": {
          "base_uri": "https://localhost:8080/"
        },
        "id": "fgGTsBWBEr2P",
        "outputId": "f7e289e7-4e6d-4f8e-a8ae-348c0f8c4652"
      },
      "outputs": [
        {
          "name": "stdout",
          "output_type": "stream",
          "text": [
            "Epoch 1/10\n",
            "311/311 [==============================] - 5s 13ms/step - loss: 0.3952 - accuracy: 0.8399 - val_loss: 0.4209 - val_accuracy: 0.8193\n",
            "Epoch 2/10\n",
            "311/311 [==============================] - 3s 8ms/step - loss: 0.1988 - accuracy: 0.9303 - val_loss: 0.2998 - val_accuracy: 0.8729\n",
            "Epoch 3/10\n",
            "311/311 [==============================] - 3s 8ms/step - loss: 0.1605 - accuracy: 0.9421 - val_loss: 0.2628 - val_accuracy: 0.8887\n",
            "Epoch 4/10\n",
            "311/311 [==============================] - 3s 8ms/step - loss: 0.1431 - accuracy: 0.9477 - val_loss: 0.2534 - val_accuracy: 0.8936\n",
            "Epoch 5/10\n",
            "311/311 [==============================] - 3s 8ms/step - loss: 0.1323 - accuracy: 0.9527 - val_loss: 0.2451 - val_accuracy: 0.8983\n",
            "Epoch 6/10\n",
            "311/311 [==============================] - 3s 8ms/step - loss: 0.1254 - accuracy: 0.9542 - val_loss: 0.2460 - val_accuracy: 0.8995\n",
            "Epoch 7/10\n",
            "311/311 [==============================] - 4s 12ms/step - loss: 0.1203 - accuracy: 0.9566 - val_loss: 0.2423 - val_accuracy: 0.9021\n",
            "Epoch 8/10\n",
            "311/311 [==============================] - 3s 8ms/step - loss: 0.1158 - accuracy: 0.9581 - val_loss: 0.2495 - val_accuracy: 0.9008\n",
            "Epoch 9/10\n",
            "311/311 [==============================] - 3s 8ms/step - loss: 0.1111 - accuracy: 0.9600 - val_loss: 0.2511 - val_accuracy: 0.9016\n",
            "Epoch 10/10\n",
            "311/311 [==============================] - 2s 8ms/step - loss: 0.1072 - accuracy: 0.9605 - val_loss: 0.2513 - val_accuracy: 0.9022\n"
          ]
        }
      ],
      "source": [
        "history = model.fit(X, Y, validation_split=0.3, batch_size=128, epochs=10, shuffle=True)"
      ]
    },
    {
      "cell_type": "markdown",
      "metadata": {
        "id": "Tl-c6S2ulQX_"
      },
      "source": [
        "Trained model charts which weren't affected by major overfitting and progressing learning it presented below."
      ]
    },
    {
      "cell_type": "code",
      "execution_count": 53,
      "metadata": {
        "colab": {
          "base_uri": "https://localhost:8080/",
          "height": 282
        },
        "id": "WGjj39ohMRWA",
        "outputId": "9c47f433-2e4d-4423-acdc-95706cb7a6ab"
      },
      "outputs": [
        {
          "data": {
            "image/png": "[encoded data removed]",
            "text/plain": [
              "<Figure size 432x288 with 1 Axes>"
            ]
          },
          "metadata": {
            "needs_background": "light"
          },
          "output_type": "display_data"
        },
        {
          "data": {
            "text/plain": [
              "<Figure size 432x288 with 0 Axes>"
            ]
          },
          "metadata": {},
          "output_type": "display_data"
        }
      ],
      "source": [
        "plt.plot(history.history['accuracy'], label='acc')\n",
        "plt.plot(history.history['val_accuracy'], label='val_acc')\n",
        "plt.legend()\n",
        "plt.show()\n",
        "plt.savefig(\"acc_plot5.jpg\")"
      ]
    },
    {
      "cell_type": "markdown",
      "metadata": {
        "id": "xdlH8lNflnFv"
      },
      "source": [
        "Save tfidf state in order to use it later in flask backend"
      ]
    },
    {
      "cell_type": "code",
      "execution_count": 36,
      "metadata": {
        "id": "hTqCLALuU5LX"
      },
      "outputs": [],
      "source": [
        "with open(\"tfidf-3.dat\", \"wb\") as file:\n",
        "  pickle.dump(tfidf, file, protocol=pickle.HIGHEST_PROTOCOL)"
      ]
    },
    {
      "cell_type": "markdown",
      "metadata": {
        "id": "_UxsST5LlsQX"
      },
      "source": [
        "Simple function predicting category for given text"
      ]
    },
    {
      "cell_type": "code",
      "execution_count": 54,
      "metadata": {
        "id": "RGtj0iA7FGkD"
      },
      "outputs": [],
      "source": [
        "def predict_sentiment(text):\n",
        "    \n",
        "    tw = tfidf.transform([text]).toarray()\n",
        "    prediction = model.predict(tw)\n",
        "    print(prediction)\n",
        "    #print(\"Predicted label: \", sentiment_label[1][prediction])\n"
      ]
    },
    {
      "cell_type": "markdown",
      "metadata": {
        "id": "8zdq9_f9l33V"
      },
      "source": [
        "Example test performed on trained model"
      ]
    },
    {
      "cell_type": "code",
      "execution_count": 104,
      "metadata": {
        "colab": {
          "base_uri": "https://localhost:8080/"
        },
        "id": "UPQQxklyG5jc",
        "outputId": "847a3fb9-97b7-4758-c976-1354e75e6f22"
      },
      "outputs": [
        {
          "name": "stdout",
          "output_type": "stream",
          "text": [
            "1/1 [==============================] - 0s 37ms/step\n",
            "[[0.13301058]]\n",
            "1/1 [==============================] - 0s 33ms/step\n",
            "[[0.01265477]]\n",
            "1/1 [==============================] - 0s 41ms/step\n",
            "[[0.04044882]]\n"
          ]
        }
      ],
      "source": [
        "test_sentence1 = \"Omg I love Matilda\"\n",
        "\n",
        "predict_sentiment(\"you are idiot\")\n",
        "predict_sentiment(test_sentence1)\n",
        "predict_sentiment(\"Wife’s fault. I hate moving them just to get in bed when I’m tired\")"
      ]
    },
    {
      "cell_type": "markdown",
      "metadata": {
        "id": "VUbjZ6uLlyQe"
      },
      "source": [
        "Save finished model"
      ]
    },
    {
      "cell_type": "code",
      "execution_count": 56,
      "metadata": {
        "id": "xJ1h_7qOO8hD"
      },
      "outputs": [],
      "source": [
        "model.save('Dense32-new-tfidf.h5')"
      ]
    }
  ],
  "metadata": {
    "colab": {
      "collapsed_sections": [],
      "provenance": []
    },
    "kernelspec": {
      "display_name": "Python 3",
      "name": "python3"
    },
    "language_info": {
      "name": "python"
    }
  },
  "nbformat": 4,
  "nbformat_minor": 0
}
